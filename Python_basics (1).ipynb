{
  "nbformat": 4,
  "nbformat_minor": 0,
  "metadata": {
    "colab": {
      "provenance": []
    },
    "kernelspec": {
      "name": "python3",
      "display_name": "Python 3"
    },
    "language_info": {
      "name": "python"
    }
  },
  "cells": [
    {
      "cell_type": "markdown",
      "source": [
        "# PYHTON BASICS"
      ],
      "metadata": {
        "id": "juxWYT6py0s3"
      }
    },
    {
      "cell_type": "markdown",
      "source": [
        "**1. What is Python, and why is it popular?**\n",
        "=     Python is a simple and easy to learn programming language. Python is popular because it is easy to learn, works on different platforms, big community and have large libraries.\n",
        "\n",
        "**2. What is an interpreter in Python?**\n",
        "=      A interpreter is a program that read and runs python code line by line.\n",
        "\n",
        "**3. What are pre-defined keywords in pyhton?**\n",
        "=     Predefined keywords are reserved words in python that have  a specific purpose.\n",
        "\n",
        "**4. Can keywords be used as variable name?**\n",
        "=      No, Keywords cannot be used as variable names.\n",
        "\n",
        "**5. What is mutability in Pyhton?**\n",
        "=       Mutability is something that can be changed or modified after it is created in python e.g.lists.\n",
        "\n",
        "**6. Why are lists mutable,but tuples are immutable?**\n",
        "=      Lists are mutable because of its flexbility that allow lists to modified\n",
        "and change its elements according to the need to update and change in data.\n",
        "\n",
        "Tuples are immutable because tuples are designed to keep their data safe from change.  it helps to ensure that the data remains constant and proctected from accidental modification.\n",
        "\n",
        "**7. What is the difference between\"==\" and \"is\" operators in python?**\n",
        "=     The difference between \"==\" and \"is\" operatos in python is that the \"==\"\n",
        "operator compares the value of two object, while \"is\" operators compares the identity of two objects.\n",
        "\n",
        "**8. What are logical operators in python?**\n",
        "=     Logical operatos in python is used to evaluate condition in conditional statements.\n",
        "\n",
        "**9. What is type casting in python?**\n",
        "=      Type casting also known as type conversion is the process of changing a variable data type to an other.\n",
        "\n",
        "**10. what is the difference between implict and explicit type casting?**\n",
        "= Implict type casting done automatically by python when converting a smaller data type to a larger one, no data loss or errors occur and Explicit type casting done manually\n",
        "by the programer using built in function like int(),float(),str(),etc, it may cause data loss or errors if incompatible types are convertes.\n",
        "**11. What is the purpose of conditional statements in Python?**\n",
        "=      The purpose of the conditional statements is to make decisions,improve code efficiency, validate user inputs and perform basic decision making.\n",
        "\n",
        "**12. How does elif statement work?**\n",
        "=       The elif statement can be used in conditional statements to check for multiple condition is false,it moves on to the next elif statements to check if that condition is true.\n",
        "\n",
        "**13. What is the difference between for and while loops?**\n",
        "=         The main difference between for loop and while  loop is the number of times the code is repeated. for loop is used when the number of liberation  is known, while a while loop is used when the number of liberation is unknown.\n",
        "\n",
        "**14. Describe a scenario where a while loop is more suitable than a for loop?**\n",
        "= A While loop is more suitable when the number of iterations is unknown beforehand and depends on a condition being meet.\n",
        "\n",
        "\n",
        "   "
      ],
      "metadata": {
        "id": "DJF7w4TAy3d3"
      }
    },
    {
      "cell_type": "markdown",
      "source": [
        "#Practical Question"
      ],
      "metadata": {
        "id": "LrMKRq7gzXq2"
      }
    },
    {
      "cell_type": "code",
      "source": [
        "#1. Write a python program to print\"Hello World!\"\n",
        "print(\"Hello World!\")"
      ],
      "metadata": {
        "colab": {
          "base_uri": "https://localhost:8080/"
        },
        "id": "Rz7tpU1fJlzL",
        "outputId": "0a210a11-5491-4a92-8972-236ce97bf13e"
      },
      "execution_count": null,
      "outputs": [
        {
          "output_type": "stream",
          "name": "stdout",
          "text": [
            "Hello World!\n"
          ]
        }
      ]
    },
    {
      "cell_type": "code",
      "source": [
        "#2. Write a python program that displays you name and age.\n",
        "name = \"Dev Ghalay\"\n",
        "age = \"21\"\n",
        "print(name)\n",
        "print(age)"
      ],
      "metadata": {
        "id": "9I0y7NAzJ7gs",
        "colab": {
          "base_uri": "https://localhost:8080/"
        },
        "outputId": "d5ae3d1a-3e23-4aa9-df80-3fe7982348a0"
      },
      "execution_count": null,
      "outputs": [
        {
          "output_type": "stream",
          "name": "stdout",
          "text": [
            "Dev Ghalay\n",
            "21\n"
          ]
        }
      ]
    },
    {
      "cell_type": "code",
      "source": [
        "#3. Write code to print all the pre-defined keywords in python using the kryword libary.\n",
        "help('keywords')"
      ],
      "metadata": {
        "colab": {
          "base_uri": "https://localhost:8080/"
        },
        "id": "QvH7wc0_L77r",
        "outputId": "dd614e94-fdc0-48a1-b839-42d676c7578b"
      },
      "execution_count": null,
      "outputs": [
        {
          "output_type": "stream",
          "name": "stdout",
          "text": [
            "\n",
            "Here is a list of the Python keywords.  Enter any keyword to get more help.\n",
            "\n",
            "False               class               from                or\n",
            "None                continue            global              pass\n",
            "True                def                 if                  raise\n",
            "and                 del                 import              return\n",
            "as                  elif                in                  try\n",
            "assert              else                is                  while\n",
            "async               except              lambda              with\n",
            "await               finally             nonlocal            yield\n",
            "break               for                 not                 \n",
            "\n"
          ]
        }
      ]
    },
    {
      "cell_type": "code",
      "source": [
        "\n",
        "#4. Write a program that check if a given word is a python keyword.\n",
        "import keyword\n",
        "keyword.iskeyword('for')\n",
        "if keyword.iskeyword(\"for\"):\n",
        "  print(\"it is a keyword\")\n",
        "else:\n",
        "  print(\"it is not a keyword\")\n"
      ],
      "metadata": {
        "colab": {
          "base_uri": "https://localhost:8080/"
        },
        "id": "PXwQGGLUPPr2",
        "outputId": "4428c2e0-d235-4f40-ced2-910aac8b86d0"
      },
      "execution_count": null,
      "outputs": [
        {
          "output_type": "stream",
          "name": "stdout",
          "text": [
            "it is a keyword\n"
          ]
        }
      ]
    },
    {
      "cell_type": "code",
      "source": [
        "#5. Create a list and tuple in python,and demostrate how attempting to change an elements works differently for each other.\n",
        "\n",
        "l = [1,2,3,4,5,6]\n",
        "print(l)\n",
        "l[1] = 20\n",
        "l.append('dev')\n",
        "print(l)\n",
        "\n",
        "j = (1,2,3)\n",
        "print(j)\n",
        "j[0]= 14\n",
        "print(j)\n",
        "\n"
      ],
      "metadata": {
        "id": "enOmtrsSQp95",
        "colab": {
          "base_uri": "https://localhost:8080/",
          "height": 263
        },
        "outputId": "e1f859d7-45bb-48cf-9da2-172194087226"
      },
      "execution_count": null,
      "outputs": [
        {
          "output_type": "stream",
          "name": "stdout",
          "text": [
            "[1, 2, 3, 4, 5, 6]\n",
            "[1, 20, 3, 4, 5, 6, 'dev']\n",
            "(1, 2, 3)\n"
          ]
        },
        {
          "output_type": "error",
          "ename": "TypeError",
          "evalue": "'tuple' object does not support item assignment",
          "traceback": [
            "\u001b[0;31m---------------------------------------------------------------------------\u001b[0m",
            "\u001b[0;31mTypeError\u001b[0m                                 Traceback (most recent call last)",
            "\u001b[0;32m<ipython-input-2-ba9f88cac891>\u001b[0m in \u001b[0;36m<cell line: 0>\u001b[0;34m()\u001b[0m\n\u001b[1;32m      9\u001b[0m \u001b[0mj\u001b[0m \u001b[0;34m=\u001b[0m \u001b[0;34m(\u001b[0m\u001b[0;36m1\u001b[0m\u001b[0;34m,\u001b[0m\u001b[0;36m2\u001b[0m\u001b[0;34m,\u001b[0m\u001b[0;36m3\u001b[0m\u001b[0;34m)\u001b[0m\u001b[0;34m\u001b[0m\u001b[0;34m\u001b[0m\u001b[0m\n\u001b[1;32m     10\u001b[0m \u001b[0mprint\u001b[0m\u001b[0;34m(\u001b[0m\u001b[0mj\u001b[0m\u001b[0;34m)\u001b[0m\u001b[0;34m\u001b[0m\u001b[0;34m\u001b[0m\u001b[0m\n\u001b[0;32m---> 11\u001b[0;31m \u001b[0mj\u001b[0m\u001b[0;34m[\u001b[0m\u001b[0;36m0\u001b[0m\u001b[0;34m]\u001b[0m\u001b[0;34m=\u001b[0m \u001b[0;36m14\u001b[0m\u001b[0;34m\u001b[0m\u001b[0;34m\u001b[0m\u001b[0m\n\u001b[0m\u001b[1;32m     12\u001b[0m \u001b[0mprint\u001b[0m\u001b[0;34m(\u001b[0m\u001b[0mj\u001b[0m\u001b[0;34m)\u001b[0m\u001b[0;34m\u001b[0m\u001b[0;34m\u001b[0m\u001b[0m\n\u001b[1;32m     13\u001b[0m \u001b[0;34m\u001b[0m\u001b[0m\n",
            "\u001b[0;31mTypeError\u001b[0m: 'tuple' object does not support item assignment"
          ]
        }
      ]
    },
    {
      "cell_type": "code",
      "source": [
        "#6. Write a function to demostrate the behaviour of mutable and immutanle arugements.\n",
        "def modify_args(immutable,mutable):\n",
        "  immutable += \"World\"\n",
        "  mutable.append(4)\n",
        "\n",
        "immutable_str = \"Hello\"\n",
        "mutable_list = [1,2,3]\n",
        "modify_args(immutable_str,mutable_list)\n",
        "print(immutable_str)\n",
        "print(mutable_list)"
      ],
      "metadata": {
        "id": "vEpNIlh4kpnM",
        "colab": {
          "base_uri": "https://localhost:8080/"
        },
        "outputId": "bdfe7d7f-7f8a-4742-d134-184f1145119e"
      },
      "execution_count": 57,
      "outputs": [
        {
          "output_type": "stream",
          "name": "stdout",
          "text": [
            "Hello\n",
            "[1, 2, 3, 4]\n"
          ]
        }
      ]
    },
    {
      "cell_type": "code",
      "source": [
        "#7. Write a program to demostrate the use of logical operators.\n",
        "x = 50\n",
        "y = 40\n",
        "print((x>45)and(y>=40))\n",
        "print((x<10)or(y>20))\n",
        "print(not(x>48))"
      ],
      "metadata": {
        "colab": {
          "base_uri": "https://localhost:8080/"
        },
        "id": "4KbW9TMXeg34",
        "outputId": "9c70fb11-4b20-494d-9889-c7c3b5edf43d"
      },
      "execution_count": null,
      "outputs": [
        {
          "output_type": "stream",
          "name": "stdout",
          "text": [
            "True\n",
            "True\n",
            "False\n"
          ]
        }
      ]
    },
    {
      "cell_type": "code",
      "source": [
        "#8. Write a python program to convert user input from string to interger,float,and boolean types.\n",
        "d = \"450\"\n",
        "print(int(d))\n",
        "print(float(d))\n"
      ],
      "metadata": {
        "colab": {
          "base_uri": "https://localhost:8080/"
        },
        "id": "dM9psUrUVIfz",
        "outputId": "2533840e-fef8-413f-eddb-2d11b9ab6885"
      },
      "execution_count": null,
      "outputs": [
        {
          "output_type": "stream",
          "name": "stdout",
          "text": [
            "450\n",
            "450.0\n"
          ]
        }
      ]
    },
    {
      "cell_type": "code",
      "source": [
        "d = \"550\"\n",
        "if d == 550:\n",
        "  print(bool(d))\n",
        "else:\n",
        "  print(bool(d))\n"
      ],
      "metadata": {
        "colab": {
          "base_uri": "https://localhost:8080/"
        },
        "id": "g_L42bsAWt7H",
        "outputId": "73220790-a786-4306-fa44-f6ef899314ed"
      },
      "execution_count": null,
      "outputs": [
        {
          "output_type": "stream",
          "name": "stdout",
          "text": [
            "True\n"
          ]
        }
      ]
    },
    {
      "cell_type": "code",
      "source": [
        "9. #Write a code to demostrate type casting with elements.\n",
        "a = \"10\"\n",
        "b = \"20\"\n",
        "print(int(a)+int(b))\n"
      ],
      "metadata": {
        "id": "eUNNnd_vee6Y",
        "colab": {
          "base_uri": "https://localhost:8080/"
        },
        "outputId": "947806bd-cfc7-4098-d295-6580d03b5e90"
      },
      "execution_count": null,
      "outputs": [
        {
          "output_type": "stream",
          "name": "stdout",
          "text": [
            "30\n"
          ]
        }
      ]
    },
    {
      "cell_type": "code",
      "source": [
        "#10.Write code to demostrate type casting with list elements.\n",
        "lis = [\"Ajay\",\"Bikram\",\"Dev\"]\n",
        "str_lis = [str(x) for x in lis]\n",
        "print(str_lis)"
      ],
      "metadata": {
        "id": "5xPwU8EgeZhX",
        "colab": {
          "base_uri": "https://localhost:8080/"
        },
        "outputId": "fd6fd700-fbe9-4511-a9c9-6eca9b7f2e45"
      },
      "execution_count": null,
      "outputs": [
        {
          "output_type": "stream",
          "name": "stdout",
          "text": [
            "['Ajay', 'Bikram', 'Dev']\n"
          ]
        }
      ]
    },
    {
      "cell_type": "code",
      "source": [
        "type(str_lis)"
      ],
      "metadata": {
        "colab": {
          "base_uri": "https://localhost:8080/"
        },
        "id": "mr5-3UPnGgJH",
        "outputId": "0444781b-2667-4988-9f36-e8166ad31025"
      },
      "execution_count": null,
      "outputs": [
        {
          "output_type": "execute_result",
          "data": {
            "text/plain": [
              "list"
            ]
          },
          "metadata": {},
          "execution_count": 17
        }
      ]
    },
    {
      "cell_type": "code",
      "source": [
        "#11. Write a  program that checks if a number is postive,negative or zero\n",
        "num = float(input(\"enter your number:\"))\n",
        "if num>0:\n",
        "  print(\"positive number\")\n",
        "elif num<0:\n",
        "  print(\"negative number\")\n",
        "else:\n",
        "  print(\"zero\")"
      ],
      "metadata": {
        "id": "J7tREKTMHcgF",
        "colab": {
          "base_uri": "https://localhost:8080/"
        },
        "outputId": "66efd967-60be-4c6d-acb7-fa833e4b035e"
      },
      "execution_count": 53,
      "outputs": [
        {
          "output_type": "stream",
          "name": "stdout",
          "text": [
            "enter your number:12.5\n",
            "positive number\n"
          ]
        }
      ]
    },
    {
      "cell_type": "code",
      "source": [
        "#12. Write a foor loop to print numbers from 1 to 10.\n",
        "for i in range(1,11):\n",
        "  print(i)"
      ],
      "metadata": {
        "colab": {
          "base_uri": "https://localhost:8080/"
        },
        "id": "j68DUOIRHvS9",
        "outputId": "4791ec5f-ac83-4403-c324-abbc3e3f667c"
      },
      "execution_count": null,
      "outputs": [
        {
          "output_type": "stream",
          "name": "stdout",
          "text": [
            "1\n",
            "2\n",
            "3\n",
            "4\n",
            "5\n",
            "6\n",
            "7\n",
            "8\n",
            "9\n",
            "10\n"
          ]
        }
      ]
    },
    {
      "cell_type": "code",
      "source": [
        "#13. Write a python program to find the sum of all even numbers from 1 and 50.\n",
        "total = 0\n",
        "for i in range(2,51,2):\n",
        "  total += i\n",
        "  print(total)\n"
      ],
      "metadata": {
        "colab": {
          "base_uri": "https://localhost:8080/"
        },
        "id": "ZdnRHyRPSmtz",
        "outputId": "76da84db-484e-4eaa-a51e-f955189851da"
      },
      "execution_count": 23,
      "outputs": [
        {
          "output_type": "stream",
          "name": "stdout",
          "text": [
            "2\n",
            "6\n",
            "12\n",
            "20\n",
            "30\n",
            "42\n",
            "56\n",
            "72\n",
            "90\n",
            "110\n",
            "132\n",
            "156\n",
            "182\n",
            "210\n",
            "240\n",
            "272\n",
            "306\n",
            "342\n",
            "380\n",
            "420\n",
            "462\n",
            "506\n",
            "552\n",
            "600\n",
            "650\n"
          ]
        }
      ]
    },
    {
      "cell_type": "code",
      "source": [
        "#14 . Write a python code to reverse a string using a while loop.\n",
        "name = input(\"Put your name\")\n",
        "name_id = ''\n",
        "index = len(name)-1\n",
        "while index >= 0:\n",
        "  name_id += name[index]\n",
        "  index -= 1\n",
        "print(name_id)"
      ],
      "metadata": {
        "colab": {
          "base_uri": "https://localhost:8080/"
        },
        "id": "mCHp8HkSP7QR",
        "outputId": "1e243ec0-0105-40c8-c433-665b27ce4352"
      },
      "execution_count": 44,
      "outputs": [
        {
          "output_type": "stream",
          "name": "stdout",
          "text": [
            "Put your name dev\n",
            "ved \n"
          ]
        }
      ]
    },
    {
      "cell_type": "code",
      "source": [
        "#15.Write a python program t calculate  the factioral of a number provided by the user using a while loop\n",
        "num = int(input(\"Enter your number:\"))\n",
        "factorial = 1\n",
        "x = num\n",
        "while x>0:\n",
        "  factorial *=1\n",
        "  x -= x\n",
        "  print(f\"factorial of {num}is: {factorial}\")"
      ],
      "metadata": {
        "colab": {
          "base_uri": "https://localhost:8080/"
        },
        "id": "v1y8JtLKVnX3",
        "outputId": "e33176d3-df22-48c0-adb8-2764773244dd"
      },
      "execution_count": 51,
      "outputs": [
        {
          "output_type": "stream",
          "name": "stdout",
          "text": [
            "Enter your number:5\n",
            "factorial of 5is: 1\n"
          ]
        }
      ]
    }
  ]
}